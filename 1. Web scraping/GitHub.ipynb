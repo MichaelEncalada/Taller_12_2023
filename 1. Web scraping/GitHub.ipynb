{
 "cells": [
  {
   "cell_type": "code",
   "execution_count": 2,
   "id": "a1dda127-7451-4292-8e7b-94d268da47c6",
   "metadata": {},
   "outputs": [],
   "source": [
    "from IPython.display import Image, display"
   ]
  },
  {
   "cell_type": "markdown",
   "id": "2b4d27b1-dea2-455f-837c-3461474a8d41",
   "metadata": {},
   "source": [
    "# Introduction to GitHub\n",
    "\n",
    "## 1. Version Control\n",
    "\n",
    "Version Control is a system that records changes to a file or set of files over time, allowing you to recall specific versions later. It’s essential for code development, especially in collaborative settings.\n",
    "\n",
    "### 1.1. Potential Problems in Version Control:\n",
    "- **Concurrent Modifications:** Multiple people editing the same file can lead to conflicts, known as 'merge conflicts'.\n",
    "- **Loss of Code:** Without proper version control, accidental deletion or overwriting of code can occur, leading to a loss of progress.\n",
    "- **Tracking Changes:** In complex projects, it can be challenging to track who changed what and why, making it difficult to understand the history of the project.\n",
    "\n",
    "### 1.2. Solutions Provided by GitHub:\n",
    "- **Collaborative Workflows:** GitHub offers various workflows to manage collaborative work, such as 'fork and pull' or 'shared repository'.\n",
    "- **Code Safety and Recovery:** With GitHub, every change is tracked. This means code can easily be reverted to a previous state, safeguarding against accidental loss.\n",
    "- **Clear History of Changes:** GitHub provides a clear and detailed history of commits (changes), making it easy to track the evolution of a project and understand each contribution.\n",
    "\n",
    "## 2. What is GitHub?\n",
    "\n",
    "GitHub is a code hosting platform for version control and collaboration, enabling multiple people to work together on projects from any location.\n",
    "\n",
    "### 2.1. Key GitHub Concepts\n",
    "\n",
    "1. **Repository (Repo):**\n",
    "   A repository is a directory or storage space where your projects can live. It can contain folders and any types of files (like HTML, CSS, JavaScript, Documents, Data, Images).\n",
    "\n",
    "2. **Clone:**\n",
    "   Cloning means creating a local copy of a repository from GitHub on your machine. This allows you to edit files in your preferred editor, use your preferred development tools, and commit changes to your local repository.\n",
    "\n",
    "3. **Commit:**\n",
    "   A commit is an individual change or addition to a file (or set of files). It's like saving a file, but with a snapshot of what was changed. Each commit has an associated commit message, which is a description explaining why a particular change was made.\n",
    "\n",
    "4. **Branches:**\n",
    "   Branches allow you to move back and forth between 'states' of a project. For instance, if you want to add a new feature or fix a bug, you create a new branch to encapsulate your changes.\n",
    "\n",
    "5. **Pull Requests (PRs):**\n",
    "   Pull requests are the heart of collaboration on GitHub. When you open a pull request, you’re proposing your changes and requesting that someone review and pull in your contribution and merge them into their branch.\n",
    "\n",
    "6. **Merge:**\n",
    "   Merging takes the changes from one branch (in the same repository or from a fork) and applies them into another. This often happens in a pull request, where changes from a feature branch are merged into the base branch.\n",
    "\n",
    "7. **Issues:**\n",
    "   Issues can be used to track ideas, enhancements, tasks, or bugs for work on GitHub. They’re a great way to have a conversation about the work with the community or your team."
   ]
  },
  {
   "cell_type": "markdown",
   "id": "f3874e3c-b44f-4947-8619-38333a9f6fb8",
   "metadata": {},
   "source": [
    "![Texto alternativo](https://www.nobledesktop.com/image/gitresources/git-branches-merge.png)"
   ]
  },
  {
   "cell_type": "markdown",
   "id": "6396bf4e-768f-4e03-9105-6c5defc49644",
   "metadata": {},
   "source": [
    "## 3.1. The \"Issues-Branch-Pull Request-Merge\" Cycle\n",
    "\n",
    "This cycle represents a collaborative and iterative approach to software development, especially when using version control systems like Git with platforms like GitHub.\n",
    "\n",
    "### 3.1.1. Steps in the Cycle:\n",
    "\n",
    "1. **Issues**\n",
    "   The cycle often begins with `Issues`, which are reports or proposals for new features, enhancements, or bug fixes in a project.\n",
    "\n",
    "2. **Branch**\n",
    "    When an issue is approved for work, a new `Branch` is created from the main codebase (commonly the `master` or `main` branch). This is where the actual work on the issue takes place in isolation.\n",
    "\n",
    "3. **Pull Request (PR)**\n",
    "   After work on the branch is complete, a `Pull Request` is opened. This is a request to review the changes made on the branch. It starts a discussion and review process involving other team members or contributors.\n",
    "\n",
    "4. **Merge**\n",
    "   Once the PR is reviewed and accepted, the changes are `Merged` into the main branch. This action integrates the new code into the main codebase and closes the loop.\n",
    "\n",
    "5. **Back to Issues**\n",
    "   The cycle can then continue with new issues being opened as a result of the merge or from new proposals, making it an ongoing process of improvement and development."
   ]
  },
  {
   "cell_type": "markdown",
   "id": "7a0143a4-f35d-4ce7-954a-1f346387617a",
   "metadata": {},
   "source": [
    "![Texto Alternativo](img/Cycle.PNG)"
   ]
  },
  {
   "cell_type": "code",
   "execution_count": null,
   "id": "ed60466e-5db9-4c90-b630-55c3f18049aa",
   "metadata": {},
   "outputs": [],
   "source": []
  }
 ],
 "metadata": {
  "kernelspec": {
   "display_name": "Python 3 (ipykernel)",
   "language": "python",
   "name": "python3"
  },
  "language_info": {
   "codemirror_mode": {
    "name": "ipython",
    "version": 3
   },
   "file_extension": ".py",
   "mimetype": "text/x-python",
   "name": "python",
   "nbconvert_exporter": "python",
   "pygments_lexer": "ipython3",
   "version": "3.11.5"
  }
 },
 "nbformat": 4,
 "nbformat_minor": 5
}
